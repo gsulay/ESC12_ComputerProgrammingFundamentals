{
 "cells": [
  {
   "cell_type": "markdown",
   "id": "60296ce5-8a60-4c75-b7e5-bfff1fd7384b",
   "metadata": {},
   "source": [
    "# **LESSON 1:** Variables and Simple Data Types"
   ]
  },
  {
   "cell_type": "markdown",
   "id": "ef8b2edf-f6c3-4ce2-a07b-3329d3ce0613",
   "metadata": {},
   "source": [
    "## Running your first program"
   ]
  },
  {
   "cell_type": "code",
   "execution_count": null,
   "id": "a4fb9424-08e3-4beb-a24c-5e22a246e12e",
   "metadata": {},
   "outputs": [],
   "source": []
  },
  {
   "cell_type": "markdown",
   "id": "080801e9-4a7e-440d-86e0-5fc4f0a0c6ba",
   "metadata": {},
   "source": [
    "## Variables"
   ]
  },
  {
   "cell_type": "code",
   "execution_count": null,
   "id": "5c716256-0a2a-4b8c-ad7a-742a9cdf46c9",
   "metadata": {},
   "outputs": [],
   "source": []
  },
  {
   "cell_type": "markdown",
   "id": "562105e4-68fc-4ce2-9aac-db8d5d07208e",
   "metadata": {},
   "source": [
    "## Strings"
   ]
  },
  {
   "cell_type": "code",
   "execution_count": null,
   "id": "79caebab-f43b-4992-883d-4f8846d2fdb2",
   "metadata": {},
   "outputs": [],
   "source": []
  },
  {
   "cell_type": "markdown",
   "id": "b227da2d-1290-4976-9f83-9133c8f42020",
   "metadata": {},
   "source": [
    "### Changing Case in a String with Methods"
   ]
  },
  {
   "cell_type": "code",
   "execution_count": null,
   "id": "91bccca0-20af-45f5-8fe6-e1ee64f40c38",
   "metadata": {},
   "outputs": [],
   "source": []
  },
  {
   "cell_type": "markdown",
   "id": "e4a15a23-1f4a-4306-938c-6fd5be27da5b",
   "metadata": {},
   "source": [
    "### Using Variables in Strings"
   ]
  },
  {
   "cell_type": "code",
   "execution_count": null,
   "id": "dc11d1c1-49d7-4831-a13f-f514187645c4",
   "metadata": {},
   "outputs": [],
   "source": []
  },
  {
   "cell_type": "markdown",
   "id": "52725dd2-7564-46fd-91f3-73925cb5ac73",
   "metadata": {},
   "source": [
    "### Adding Whitespace to Strings with Tabs or Newlines"
   ]
  },
  {
   "cell_type": "code",
   "execution_count": null,
   "id": "3ba5bfb1-2d54-4fd1-a6f1-dcd891c18b8c",
   "metadata": {},
   "outputs": [],
   "source": []
  },
  {
   "cell_type": "markdown",
   "id": "513d43d4-1e77-43c5-b250-d545d7332196",
   "metadata": {},
   "source": [
    "### Stripping Whitespace"
   ]
  },
  {
   "cell_type": "code",
   "execution_count": null,
   "id": "5c9e5cb7-443b-4796-8959-0dae392a645c",
   "metadata": {},
   "outputs": [],
   "source": []
  },
  {
   "cell_type": "markdown",
   "id": "67a1b77d-0892-4565-bd84-13e6963ca656",
   "metadata": {},
   "source": [
    "## Numbers"
   ]
  },
  {
   "cell_type": "markdown",
   "id": "824a187b-4243-4681-8b28-597e8ce94b29",
   "metadata": {},
   "source": [
    "### Integers"
   ]
  },
  {
   "cell_type": "code",
   "execution_count": null,
   "id": "f2ab3e66-ffb2-412f-ace5-cc91b2b99a7e",
   "metadata": {},
   "outputs": [],
   "source": []
  },
  {
   "cell_type": "markdown",
   "id": "573b1f14-b356-4947-9f1a-df783a43b7bf",
   "metadata": {},
   "source": [
    "### Floats"
   ]
  },
  {
   "cell_type": "code",
   "execution_count": null,
   "id": "00aa7be8-92c7-4090-9b8b-2cf70038ba09",
   "metadata": {},
   "outputs": [],
   "source": []
  },
  {
   "cell_type": "markdown",
   "id": "3988332e-498a-4f88-a0ef-138ff099239e",
   "metadata": {},
   "source": [
    "### Integers and Floats"
   ]
  },
  {
   "cell_type": "code",
   "execution_count": null,
   "id": "c4bcf201-b140-44ed-8d5c-8e1eccdd4c30",
   "metadata": {},
   "outputs": [],
   "source": []
  },
  {
   "cell_type": "markdown",
   "id": "aee9539b-6588-4e2b-adcd-4e301dc0244a",
   "metadata": {},
   "source": [
    "### Underscores in Numbers"
   ]
  },
  {
   "cell_type": "code",
   "execution_count": null,
   "id": "3445bfbe-4c01-49fa-9741-f8f17e6c9733",
   "metadata": {},
   "outputs": [],
   "source": []
  },
  {
   "cell_type": "markdown",
   "id": "cafa283c-c725-4720-acc0-581eac279f4c",
   "metadata": {},
   "source": [
    "### Multiple Assignment"
   ]
  },
  {
   "cell_type": "code",
   "execution_count": null,
   "id": "c2c2f37d-56a0-4f1d-9ced-2fd00658ccd3",
   "metadata": {},
   "outputs": [],
   "source": []
  },
  {
   "cell_type": "markdown",
   "id": "7a8e6ef8-199e-4cff-abc7-4bf103fa4c9a",
   "metadata": {},
   "source": [
    "### Constants"
   ]
  },
  {
   "cell_type": "code",
   "execution_count": null,
   "id": "6fab3637-a9d6-4010-9e1f-81c0d8353c76",
   "metadata": {},
   "outputs": [],
   "source": []
  },
  {
   "cell_type": "markdown",
   "id": "587f7a9f-c4fd-4fa8-9c81-e2366a04d191",
   "metadata": {},
   "source": [
    "## Comments"
   ]
  },
  {
   "cell_type": "code",
   "execution_count": null,
   "id": "b2c9b2b5-33a8-4803-a90b-ff12074fee81",
   "metadata": {},
   "outputs": [],
   "source": []
  },
  {
   "cell_type": "markdown",
   "id": "43dabaf8-b37f-4d8e-afad-393387a40003",
   "metadata": {},
   "source": [
    "# Lesson 1 Activity:\n",
    "\n",
    "* Number Eight: Write addition, subtraction, multiplication, and division \n",
    "operations that each result in the number 8. Be sure to enclose your operations \n",
    "in print() calls to see the results. You should create four lines that look like this (Your output should simply be four lines with the number 8 appearing once \n",
    "on each line):\n",
    "```python\n",
    "print(5+3)\n",
    "``` \n",
    "\n",
    "* Favorite Number: Use a variable to represent your favorite number. Then, \n",
    "using that variable, create a message that reveals your favorite number. Print \n",
    "that message"
   ]
  },
  {
   "cell_type": "code",
   "execution_count": null,
   "id": "ad229f62-4db4-4e5e-b257-d49f4e4b82ba",
   "metadata": {},
   "outputs": [],
   "source": []
  },
  {
   "cell_type": "markdown",
   "id": "a0ee25b4-b016-4d3f-98b0-34138831a422",
   "metadata": {},
   "source": [
    "# **Lesson 2:** Introducing Lists"
   ]
  },
  {
   "cell_type": "markdown",
   "id": "11577bf5-70d8-4625-b8cd-d6782760f128",
   "metadata": {},
   "source": [
    "## What Is a List?"
   ]
  },
  {
   "cell_type": "code",
   "execution_count": null,
   "id": "e76fc597-618d-4654-9de2-70446a509770",
   "metadata": {},
   "outputs": [],
   "source": []
  },
  {
   "cell_type": "markdown",
   "id": "a35754c3-e7d0-4319-98b9-d8dbf80e312e",
   "metadata": {},
   "source": [
    "### Accessing Elements in a List"
   ]
  },
  {
   "cell_type": "code",
   "execution_count": null,
   "id": "a88572c2-311b-48a8-9c77-53facbe4ff10",
   "metadata": {},
   "outputs": [],
   "source": []
  },
  {
   "cell_type": "markdown",
   "id": "8064c97c-613f-47ec-b21b-87347bdc78f8",
   "metadata": {},
   "source": [
    "### Index Positions Start at 0, Not 1"
   ]
  },
  {
   "cell_type": "code",
   "execution_count": null,
   "id": "4ba3b42a-b2ae-46fb-a2de-52466715f2e3",
   "metadata": {},
   "outputs": [],
   "source": []
  },
  {
   "cell_type": "markdown",
   "id": "bbaa4154-d78e-4018-b492-56068c660f12",
   "metadata": {},
   "source": [
    "### Using Individual Values from a List"
   ]
  },
  {
   "cell_type": "code",
   "execution_count": null,
   "id": "52d31b4d-da7b-4ba9-b3d0-5ff7280c92a6",
   "metadata": {},
   "outputs": [],
   "source": []
  },
  {
   "cell_type": "markdown",
   "id": "5b25e740-e261-44d6-bbd1-873423340040",
   "metadata": {},
   "source": [
    "## Changing, Adding, and Removing Elements"
   ]
  },
  {
   "cell_type": "markdown",
   "id": "2a52de4f-b8a1-484c-9377-0e04206dc65e",
   "metadata": {},
   "source": [
    "### Modifying Elements in a List"
   ]
  },
  {
   "cell_type": "code",
   "execution_count": null,
   "id": "a4580479-a2a3-43dc-a1cc-5134c86a9d39",
   "metadata": {},
   "outputs": [],
   "source": []
  },
  {
   "cell_type": "markdown",
   "id": "f05cb4a0-55fd-432f-8aca-18adb192c56e",
   "metadata": {},
   "source": [
    "### Adding Elements to a List"
   ]
  },
  {
   "cell_type": "code",
   "execution_count": null,
   "id": "7a6f461d-109f-49b9-a2ed-9606ac7eca07",
   "metadata": {},
   "outputs": [],
   "source": []
  },
  {
   "cell_type": "markdown",
   "id": "d5d291c6-ccee-48b8-a083-608996de5b1f",
   "metadata": {},
   "source": [
    "#### Appending Elements to the End of a List"
   ]
  },
  {
   "cell_type": "code",
   "execution_count": null,
   "id": "328df4bc-e304-4593-91cc-134beb922c73",
   "metadata": {},
   "outputs": [],
   "source": []
  },
  {
   "cell_type": "markdown",
   "id": "bfea0e06-213d-4da6-8d07-8c69984829b4",
   "metadata": {},
   "source": [
    "#### Inserting Elements into a List"
   ]
  },
  {
   "cell_type": "code",
   "execution_count": null,
   "id": "a8f10db9-b4d8-42e6-8532-53a9993e04ee",
   "metadata": {},
   "outputs": [],
   "source": []
  },
  {
   "cell_type": "markdown",
   "id": "020779bb-d43c-484d-8907-e0dd71902508",
   "metadata": {},
   "source": [
    "### Removing Elements from a List"
   ]
  },
  {
   "cell_type": "code",
   "execution_count": null,
   "id": "44f1f8d8-2fa9-45bd-9ba7-0ade9513284f",
   "metadata": {},
   "outputs": [],
   "source": []
  },
  {
   "cell_type": "markdown",
   "id": "b823ee1b-a5eb-418c-bdfc-c2faad886153",
   "metadata": {},
   "source": [
    "#### Removing an Item Using the del Statement"
   ]
  },
  {
   "cell_type": "code",
   "execution_count": null,
   "id": "b3f6a10e-0bca-414a-96a2-5ace4f64728a",
   "metadata": {},
   "outputs": [],
   "source": []
  },
  {
   "cell_type": "markdown",
   "id": "f165dd00-7300-498a-a44c-eba1550ddb19",
   "metadata": {},
   "source": [
    "#### Removing an Item Using the pop() Method"
   ]
  },
  {
   "cell_type": "code",
   "execution_count": null,
   "id": "b8e1c575-0766-47fb-8c1d-34997ebbb6e0",
   "metadata": {},
   "outputs": [],
   "source": []
  },
  {
   "cell_type": "markdown",
   "id": "01d36fca-8e23-48fe-b59e-3a6f15061154",
   "metadata": {},
   "source": [
    "#### Removing an Item by Value"
   ]
  },
  {
   "cell_type": "code",
   "execution_count": null,
   "id": "271911f5-0b13-4b8e-a218-6d43c98e8be3",
   "metadata": {},
   "outputs": [],
   "source": []
  },
  {
   "cell_type": "markdown",
   "id": "e814c1c7-5047-485d-858b-6adafff7ba62",
   "metadata": {},
   "source": [
    "## Organizing a List"
   ]
  },
  {
   "cell_type": "markdown",
   "id": "892010c7-d6a4-44eb-853a-a2882999d574",
   "metadata": {},
   "source": [
    "### Sorting a List Permanently with the sort() Method"
   ]
  },
  {
   "cell_type": "code",
   "execution_count": null,
   "id": "610fa886-b4b9-45cd-ac49-8f21c3473e23",
   "metadata": {},
   "outputs": [],
   "source": []
  },
  {
   "cell_type": "markdown",
   "id": "46c500ef-a36e-4689-a0cc-798106977435",
   "metadata": {},
   "source": [
    "### Sorting a List Temporarily with the sorted() Function"
   ]
  },
  {
   "cell_type": "code",
   "execution_count": null,
   "id": "df7f837c-d62c-4914-baf6-f5ac02a97260",
   "metadata": {},
   "outputs": [],
   "source": []
  },
  {
   "cell_type": "markdown",
   "id": "eafc1da0-0ae4-4ec6-a28e-a11cf1f4f338",
   "metadata": {},
   "source": [
    "### Printing a List in Reverse Order"
   ]
  },
  {
   "cell_type": "code",
   "execution_count": null,
   "id": "31403f1b-1a0a-4c89-af44-d7e35b7f54a6",
   "metadata": {},
   "outputs": [],
   "source": []
  },
  {
   "cell_type": "markdown",
   "id": "c456d13f-350c-4e91-b436-e8d5e92fa5cb",
   "metadata": {},
   "source": [
    "### Finding the Length of a List"
   ]
  },
  {
   "cell_type": "code",
   "execution_count": null,
   "id": "d9788e9d-1795-416d-b68e-3fb53a666d1f",
   "metadata": {},
   "outputs": [],
   "source": []
  },
  {
   "cell_type": "markdown",
   "id": "2018d62a-4acc-4425-970e-d81176822c61",
   "metadata": {},
   "source": [
    "# Lesson 2 Activity:"
   ]
  },
  {
   "cell_type": "markdown",
   "id": "a7993ba4-6267-42d0-99f1-873a1ec057e0",
   "metadata": {},
   "source": [
    "* **Seeing the World:** Think of at least five places in the world you’d like to \n",
    "visit.\n",
    "1. Store the locations in a list. Make sure the list is not in alphabetical order.\n",
    "2. Print your list in its original order. Don’t worry about printing the list neatly, \n",
    "just print it as a raw Python list.\n",
    "3. Use sorted() to print your list in alphabetical order without modifying the \n",
    "actual list.\n",
    "4. Show that your list is still in its original order by printing it.\n",
    "5. Use sorted() to print your list in reverse alphabetical order without changing the order of the original list.\n",
    "6. Show that your list is still in its original order by printing it again.\n",
    "7. Use reverse() to change the order of your list. Print the list to show that its \n",
    "order has changed.\n",
    "8. Use reverse() to change the order of your list again. Print the list to show \n",
    "it’s back to its original order.\n",
    "9. Use sort() to change your list so it’s stored in alphabetical order. Print the \n",
    "list to show that its order has been changed.\n",
    "10. Use sort() to change your list so it’s stored in reverse alphabetical order. \n",
    "Print the list to show that its order has changed."
   ]
  },
  {
   "cell_type": "code",
   "execution_count": null,
   "id": "451bdf33-57cb-452f-a6a1-d9b052ca6264",
   "metadata": {},
   "outputs": [],
   "source": []
  }
 ],
 "metadata": {
  "kernelspec": {
   "display_name": "Python 3 (ipykernel)",
   "language": "python",
   "name": "python3"
  },
  "language_info": {
   "codemirror_mode": {
    "name": "ipython",
    "version": 3
   },
   "file_extension": ".py",
   "mimetype": "text/x-python",
   "name": "python",
   "nbconvert_exporter": "python",
   "pygments_lexer": "ipython3",
   "version": "3.11.4"
  }
 },
 "nbformat": 4,
 "nbformat_minor": 5
}
